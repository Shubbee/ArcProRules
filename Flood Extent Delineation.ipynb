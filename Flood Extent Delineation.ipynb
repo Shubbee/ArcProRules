{
 "cells": [
  {
   "cell_type": "code",
   "execution_count": null,
   "metadata": {},
   "outputs": [
    {
     "name": "stdout",
     "output_type": "stream",
     "text": [
      "Processing flood extent for 200yr_RP at 2.83m...\n",
      "Processing flood extent for 200yr_RP_SLR_0_5m at 3.33m...\n",
      "Processing flood extent for 200yr_RP_SLR_1m at 3.83m...\n"
     ]
    }
   ],
   "source": [
    "import arcpy\n",
    "from arcpy.sa import *\n",
    "\n",
    "# Set environment settings\n",
    "arcpy.env.overwriteOutput = True\n",
    "arcpy.env.workspace = r\"C:\\Projects\\Vancouver Parks\\Vancouver Parks GIS\\Vancouver Parks GIS.gdb\"\n",
    "dtm_raster = r\"C:\\Projects\\Vancouver Parks\\Vancouver Parks GIS\\Vancouver Parks GIS.gdb\\DTM_v19_Clipped\" \n",
    "output_folder = r\"C:\\Projects\\Vancouver Parks\\DTM\\Flood Extent Processing\"        \n",
    "\n",
    "# Define flood elevation scenarios (in meters)\n",
    "flood_levels = {\n",
    "    \"200yr_RP\": 2.83,\n",
    "    \"200yr_RP_SLR_0_5m\": 3.33,\n",
    "    \"200yr_RP_SLR_1m\": 3.83,\n",
    "    \"200yr_RP_SLR_2m\": 4.83\n",
    "}\n",
    "\n",
    "# Step 1: Define coastal seed (areas <= 0m as flood source)\n",
    "coastal_seed = \"FloodExtent_CoastalSeed\"\n",
    "\n",
    "# Process each flood scenario\n",
    "for scenario, elevation in flood_levels.items():\n",
    "    print(f\"Processing flood extent for {scenario} at {elevation}m...\")\n",
    "    \n",
    "    # Step 2: Reclassify DTM to binary raster (≤ elevation = 1, > elevation = NoData)\n",
    "    flood_raster = Con(Raster(dtm_raster) <= elevation, 1)\n",
    "    flood_raster.save(f\"{output_folder}/{scenario}_flood.tif\")\n",
    "    \n",
    "    # Step 3: Group contiguous regions\n",
    "    region_groups = RegionGroup(flood_raster, \"EIGHT\", \"WITHIN\", \"NO_LINK\")\n",
    "    region_groups.save(f\"{output_folder}/{scenario}_regions.tif\")\n",
    "    \n",
    "    # Step 4: Filter regions connected to the coast\n",
    "    # Use Zonal Statistics to identify regions touching the coastal seed\n",
    "    zonal_table = f\"{output_folder}/{scenario}_zonal_table.dbf\"\n",
    "    ZonalStatisticsAsTable(region_groups, \"Value\", coastal_seed, zonal_table, \"DATA\", \"SUM\")\n",
    "    \n",
    "    # Select regions with SUM > 0 (connected to coast)\n",
    "    connected_regions = Con(IsNull(region_groups), 0, \n",
    "                          Con(InList(region_groups, [row[0] for row in arcpy.da.SearchCursor(zonal_table, \"Value\", \"SUM > 0\")]), 1))\n",
    "    connected_regions.save(f\"{output_folder}/{scenario}_connected.tif\")\n",
    "    \n",
    "    # Step 5: Convert to polygon\n",
    "    output_polygon = f\"{output_folder}/{scenario}_flood_extent.shp\"\n",
    "    arcpy.RasterToPolygon_conversion(connected_regions, output_polygon, \"SIMPLIFY\", \"Value\")\n",
    "    \n",
    "    # Clean up intermediate files (optional)\n",
    "    # arcpy.Delete_management(f\"{output_folder}/{scenario}_flood.tif\")\n",
    "    # arcpy.Delete_management(f\"{output_folder}/{scenario}_regions.tif\")\n",
    "    # arcpy.Delete_management(zonal_table)\n",
    "\n",
    "print(\"Flood extent polygons created for all scenarios.\")"
   ]
  },
  {
   "cell_type": "code",
   "execution_count": null,
   "metadata": {},
   "outputs": [],
   "source": []
  }
 ],
 "metadata": {
  "kernelspec": {
   "display_name": "ArcGISPro",
   "language": "python",
   "name": "python3"
  },
  "language_info": {
   "file_extension": ".py",
   "mimetype": "text/x-python",
   "name": "python",
   "version": "3.11.10"
  }
 },
 "nbformat": 4,
 "nbformat_minor": 4
}
